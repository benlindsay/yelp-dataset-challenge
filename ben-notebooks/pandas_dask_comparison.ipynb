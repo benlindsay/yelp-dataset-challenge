{
 "cells": [
  {
   "cell_type": "markdown",
   "metadata": {},
   "source": [
    "# Comparing Pandas-based and Dask-based Computations\n",
    "\n",
    "This notebook corresponds to [my blog post on benjlindsay.com](http://benjlindsay.com/blog/analyzing-larger-than-memory-data-on-your-laptop). The purpose of this notebook is to show that Pandas-based manipulations and calculations can be scaled up to larger-than-memory datasets without too much of a change using Dask."
   ]
  },
  {
   "cell_type": "code",
   "execution_count": 1,
   "metadata": {
    "collapsed": true
   },
   "outputs": [],
   "source": [
    "import numpy as np\n",
    "import dask.bag as db\n",
    "import json\n",
    "import pandas as pd"
   ]
  },
  {
   "cell_type": "markdown",
   "metadata": {},
   "source": [
    "## 1. Define Function to Compute Baseline Prediction that works with either Pandas or Dask Dataframes"
   ]
  },
  {
   "cell_type": "code",
   "execution_count": 2,
   "metadata": {
    "collapsed": true
   },
   "outputs": [],
   "source": [
    "def compute_baseline_rmse(df_train, df_test, beta_u, beta_i, rmse_func):\n",
    "    \"\"\"\n",
    "    df_train and df_test are either Pandas or Dask dataframes\n",
    "    that must contain the columns 'user_id', 'business_id', and 'stars'.\n",
    "    beta_u and beta_i are user and business damping factors, respectively.\n",
    "    rmse_func is a function that computes the RMSE of the prediction\n",
    "    and takes Pandas or Dask Series objects, depending on whether\n",
    "    df_train and df_test are Pandas or Dask Dataframes.\n",
    "    \"\"\"\n",
    "    # Get mean rating of all training ratings\n",
    "    train_mean = df_train['stars'].mean()\n",
    "    # Get dataframe of b_u part of baseline for each user id\n",
    "    user_group = df_train[['user_id', 'stars']].groupby('user_id')\n",
    "    df_train_user = user_group.agg(['sum', 'count'])['stars']\n",
    "    df_train_user['b_u'] = (df_train_user['sum'] - train_mean * df_train_user['count'])\n",
    "    df_train_user['b_u'] /= (df_train_user['count'] + beta_u)\n",
    "    # Create column of b_u values corresponding to the user who made the review\n",
    "    df_train = df_train.join(df_train_user[['b_u']], on='user_id')\n",
    "    # Add column representing the expression inside the summation part of the b_i equation\n",
    "    df_train['b_i_sum'] = df_train['stars'] - df_train['b_u'] - train_mean\n",
    "    # Average over each business to get the actual b_i values for each business\n",
    "    bus_group = df_train[['business_id', 'b_i_sum']].groupby('business_id')\n",
    "    df_train_bus = bus_group.agg(['sum', 'count'])['b_i_sum'].rename(columns={'sum': 'b_i'})\n",
    "    df_train_bus['b_i'] /= df_train_bus['count'] + beta_i\n",
    "    # Join b_u and b_i columns to test dataframe\n",
    "    df_test = df_test.join(df_train_user[['b_u']], on='user_id').fillna(df_train_user['b_u'].mean())\n",
    "    df_test = df_test.join(df_train_bus[['b_i']], on='business_id').fillna(df_train_bus['b_i'].mean())\n",
    "    # Predict and Compute error\n",
    "    df_test['pred'] = df_test['b_u'] + df_test['b_i'] + train_mean\n",
    "    error = rmse_func(df_test['stars'], df_test['pred'])\n",
    "    print('Error = {}'.format(error))"
   ]
  },
  {
   "cell_type": "markdown",
   "metadata": {},
   "source": [
    "## 2. Just Champaign Training Data"
   ]
  },
  {
   "cell_type": "markdown",
   "metadata": {},
   "source": [
    "### 2.1 Load Reviews Data with Pandas"
   ]
  },
  {
   "cell_type": "code",
   "execution_count": 3,
   "metadata": {
    "collapsed": false
   },
   "outputs": [
    {
     "data": {
      "text/html": [
       "<div>\n",
       "<table border=\"1\" class=\"dataframe\">\n",
       "  <thead>\n",
       "    <tr style=\"text-align: right;\">\n",
       "      <th></th>\n",
       "      <th>review_id</th>\n",
       "      <th>business_id</th>\n",
       "      <th>user_id</th>\n",
       "      <th>stars</th>\n",
       "    </tr>\n",
       "  </thead>\n",
       "  <tbody>\n",
       "    <tr>\n",
       "      <th>0</th>\n",
       "      <td>3xGR24wD5ILntyX2UXZWTA</td>\n",
       "      <td>1DedueD53YsKcpqMWPIe9w</td>\n",
       "      <td>OkZk0I2S6mcMOtjSP12U_A</td>\n",
       "      <td>3</td>\n",
       "    </tr>\n",
       "    <tr>\n",
       "      <th>1</th>\n",
       "      <td>2_BvxFBvtyMKjNf3gzmbqw</td>\n",
       "      <td>1DedueD53YsKcpqMWPIe9w</td>\n",
       "      <td>8f9m9EdA6M5Jr-sqdPrc5A</td>\n",
       "      <td>4</td>\n",
       "    </tr>\n",
       "    <tr>\n",
       "      <th>2</th>\n",
       "      <td>V926hjwKcbT-ZVJOwSeXnQ</td>\n",
       "      <td>1DedueD53YsKcpqMWPIe9w</td>\n",
       "      <td>oJl-C8UECsibhHS2dB8yzQ</td>\n",
       "      <td>2</td>\n",
       "    </tr>\n",
       "  </tbody>\n",
       "</table>\n",
       "</div>"
      ],
      "text/plain": [
       "                review_id             business_id                 user_id  \\\n",
       "0  3xGR24wD5ILntyX2UXZWTA  1DedueD53YsKcpqMWPIe9w  OkZk0I2S6mcMOtjSP12U_A   \n",
       "1  2_BvxFBvtyMKjNf3gzmbqw  1DedueD53YsKcpqMWPIe9w  8f9m9EdA6M5Jr-sqdPrc5A   \n",
       "2  V926hjwKcbT-ZVJOwSeXnQ  1DedueD53YsKcpqMWPIe9w  oJl-C8UECsibhHS2dB8yzQ   \n",
       "\n",
       "   stars  \n",
       "0      3  \n",
       "1      4  \n",
       "2      2  "
      ]
     },
     "execution_count": 3,
     "metadata": {},
     "output_type": "execute_result"
    }
   ],
   "source": [
    "df_rev_champaign = pd.read_json('../preprocessed-data/champaign_reviews_train.json', orient='records', lines=True)\n",
    "df_rev_champaign = df_rev_champaign[['review_id', 'business_id', 'user_id', 'stars']]\n",
    "df_rev_champaign.head(3)"
   ]
  },
  {
   "cell_type": "markdown",
   "metadata": {},
   "source": [
    "### 2.2 Define Root Mean Squared Error (RMSE) Function that works with Pandas Series objects"
   ]
  },
  {
   "cell_type": "code",
   "execution_count": 4,
   "metadata": {
    "collapsed": true
   },
   "outputs": [],
   "source": [
    "def rmse_pandas(y_true, y_pred):\n",
    "    diff_sq = (y_true - y_pred) ** 2\n",
    "    return np.sqrt(diff_sq.mean())"
   ]
  },
  {
   "cell_type": "markdown",
   "metadata": {},
   "source": [
    "### 2.3 Split Reviews Dataframe into Train and Test"
   ]
  },
  {
   "cell_type": "code",
   "execution_count": 5,
   "metadata": {
    "collapsed": true
   },
   "outputs": [],
   "source": [
    "from sklearn.model_selection import train_test_split\n",
    "df_train_champaign, df_test_champaign = train_test_split(df_rev_champaign, random_state=0, test_size=0.2)"
   ]
  },
  {
   "cell_type": "markdown",
   "metadata": {},
   "source": [
    "### 2.4 Compute Baseline RMSE"
   ]
  },
  {
   "cell_type": "code",
   "execution_count": 6,
   "metadata": {
    "collapsed": false
   },
   "outputs": [
    {
     "name": "stdout",
     "output_type": "stream",
     "text": [
      "Error = 1.2719370215819148\n"
     ]
    }
   ],
   "source": [
    "compute_baseline_rmse(df_train_champaign, df_test_champaign, 5, 5, rmse_pandas)"
   ]
  },
  {
   "cell_type": "code",
   "execution_count": 7,
   "metadata": {
    "collapsed": false
   },
   "outputs": [],
   "source": [
    "# Delete previous dataframes\n",
    "del df_rev_champaign, df_train_champaign, df_test_champaign"
   ]
  },
  {
   "cell_type": "markdown",
   "metadata": {},
   "source": [
    "## 3. US/Canada Reviews"
   ]
  },
  {
   "cell_type": "markdown",
   "metadata": {},
   "source": [
    "### 3.1 Load Reviews Data with Dask"
   ]
  },
  {
   "cell_type": "code",
   "execution_count": 8,
   "metadata": {
    "collapsed": false
   },
   "outputs": [
    {
     "data": {
      "text/html": [
       "<div>\n",
       "<table border=\"1\" class=\"dataframe\">\n",
       "  <thead>\n",
       "    <tr style=\"text-align: right;\">\n",
       "      <th></th>\n",
       "      <th>review_id</th>\n",
       "      <th>business_id</th>\n",
       "      <th>user_id</th>\n",
       "      <th>stars</th>\n",
       "    </tr>\n",
       "  </thead>\n",
       "  <tbody>\n",
       "    <tr>\n",
       "      <th>0</th>\n",
       "      <td>NxL8SIC5yqOdnlXCg18IBg</td>\n",
       "      <td>2aFiy99vNLklCx3T_tGS9A</td>\n",
       "      <td>KpkOkG6RIf4Ra25Lhhxf1A</td>\n",
       "      <td>5</td>\n",
       "    </tr>\n",
       "    <tr>\n",
       "      <th>1</th>\n",
       "      <td>pXbbIgOXvLuTi_SPs1hQEQ</td>\n",
       "      <td>2aFiy99vNLklCx3T_tGS9A</td>\n",
       "      <td>bQ7fQq1otn9hKX-gXRsrgA</td>\n",
       "      <td>5</td>\n",
       "    </tr>\n",
       "    <tr>\n",
       "      <th>2</th>\n",
       "      <td>GP6YEearUWrzPtQYSF1vVg</td>\n",
       "      <td>2LfIuF3_sX6uwe-IR-P0jQ</td>\n",
       "      <td>aW3ix1KNZAvoM8q-WghA3Q</td>\n",
       "      <td>5</td>\n",
       "    </tr>\n",
       "  </tbody>\n",
       "</table>\n",
       "</div>"
      ],
      "text/plain": [
       "                review_id             business_id                 user_id  \\\n",
       "0  NxL8SIC5yqOdnlXCg18IBg  2aFiy99vNLklCx3T_tGS9A  KpkOkG6RIf4Ra25Lhhxf1A   \n",
       "1  pXbbIgOXvLuTi_SPs1hQEQ  2aFiy99vNLklCx3T_tGS9A  bQ7fQq1otn9hKX-gXRsrgA   \n",
       "2  GP6YEearUWrzPtQYSF1vVg  2LfIuF3_sX6uwe-IR-P0jQ  aW3ix1KNZAvoM8q-WghA3Q   \n",
       "\n",
       "   stars  \n",
       "0      5  \n",
       "1      5  \n",
       "2      5  "
      ]
     },
     "execution_count": 8,
     "metadata": {},
     "output_type": "execute_result"
    }
   ],
   "source": [
    "dict_bag = db.read_text('../preprocessed-data/reviews_train.json', blocksize=int(50e5)).map(json.loads)\n",
    "df_rev = dict_bag.to_dataframe(columns=['review_id', 'business_id', 'user_id', 'stars'])\n",
    "df_rev = df_rev.repartition(npartitions=10)\n",
    "df_rev.head(3)"
   ]
  },
  {
   "cell_type": "markdown",
   "metadata": {},
   "source": [
    "### 3.2 Define RMSE Function that works with Dask Series Objects"
   ]
  },
  {
   "cell_type": "code",
   "execution_count": 9,
   "metadata": {
    "collapsed": true
   },
   "outputs": [],
   "source": [
    "def rmse_dask(y_true, y_pred):\n",
    "    diff_sq = (y_true - y_pred) ** 2\n",
    "    return np.sqrt(diff_sq.mean().compute())"
   ]
  },
  {
   "cell_type": "markdown",
   "metadata": {},
   "source": [
    "### 3.3 Split Reviews Dataframe into Train and Test"
   ]
  },
  {
   "cell_type": "code",
   "execution_count": 10,
   "metadata": {
    "collapsed": true
   },
   "outputs": [],
   "source": [
    "df_train, df_test = df_rev.random_split([0.8, 0.2], random_state=0)"
   ]
  },
  {
   "cell_type": "markdown",
   "metadata": {},
   "source": [
    "### 3.4 Compute Baseline RMSE"
   ]
  },
  {
   "cell_type": "code",
   "execution_count": 11,
   "metadata": {
    "collapsed": false
   },
   "outputs": [
    {
     "name": "stdout",
     "output_type": "stream",
     "text": [
      "Error = 1.2458789659023641\n",
      "CPU times: user 7min 41s, sys: 1min 5s, total: 8min 46s\n",
      "Wall time: 10min 19s\n"
     ]
    }
   ],
   "source": [
    "%%time\n",
    "compute_baseline_rmse(df_train, df_test, 5, 5, rmse_dask)"
   ]
  }
 ],
 "metadata": {
  "kernelspec": {
   "display_name": "Python 3",
   "language": "python",
   "name": "python3"
  },
  "language_info": {
   "codemirror_mode": {
    "name": "ipython",
    "version": 3
   },
   "file_extension": ".py",
   "mimetype": "text/x-python",
   "name": "python",
   "nbconvert_exporter": "python",
   "pygments_lexer": "ipython3",
   "version": "3.6.0"
  }
 },
 "nbformat": 4,
 "nbformat_minor": 2
}

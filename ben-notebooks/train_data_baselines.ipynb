{
 "cells": [
  {
   "cell_type": "markdown",
   "metadata": {},
   "source": [
    "# Computing baseline Yelp business ratings for all our training data\n",
    "\n",
    "This notebook follows guidelines in [this guide to collaborative filtering systems](http://files.grouplens.org/papers/FnT%20CF%20Recsys%20Survey.pdf) to compute simple baselines for recommender system predictions."
   ]
  },
  {
   "cell_type": "code",
   "execution_count": 1,
   "metadata": {
    "collapsed": true
   },
   "outputs": [],
   "source": [
    "%matplotlib inline\n",
    "import numpy as np\n",
    "import dask.bag as db\n",
    "import dask.dataframe as dd\n",
    "import json\n",
    "import pandas as pd\n",
    "import random\n",
    "import os\n",
    "from glob import glob\n",
    "from sklearn.metrics import mean_squared_error\n",
    "from sklearn.model_selection import KFold"
   ]
  },
  {
   "cell_type": "code",
   "execution_count": 2,
   "metadata": {
    "collapsed": true
   },
   "outputs": [],
   "source": [
    "US_CANADA_REGION_BY_STATE_DICT = {\n",
    "    'AZ': 'Phoenix',\n",
    "    'NV': 'Las Vegas',\n",
    "    'ON': 'Toronto',\n",
    "    'NC': 'Charlotte',\n",
    "    'SC': 'Charlotte',\n",
    "    'OH': 'Cleveland',\n",
    "    'PA': 'Pittsburgh',\n",
    "    'QC': 'Montreal',\n",
    "    'NY': 'Montreal',\n",
    "    'VT': 'Montreal',\n",
    "    'WI': 'Madison',\n",
    "    'IL': 'Champaign'\n",
    "}"
   ]
  },
  {
   "cell_type": "code",
   "execution_count": 3,
   "metadata": {
    "collapsed": true
   },
   "outputs": [],
   "source": [
    "# File paths\n",
    "reviews_train_file = '../preprocessed-data/reviews_train.json'\n",
    "all_businesses_file = '../raw-data/yelp_academic_dataset_business.json'"
   ]
  },
  {
   "cell_type": "code",
   "execution_count": 4,
   "metadata": {
    "collapsed": true
   },
   "outputs": [],
   "source": [
    "def get_businesses_df(json_file_name, us_canada_only=True):\n",
    "    \"\"\" Return dataframe from raw data.\n",
    "    All rows unless max_rows is set. All cities unless city is set. All columns unless select_keys is set.\n",
    "    Only businesses in US/Canada if us_canada_only is true\n",
    "    \"\"\"\n",
    "    dict_bag = db.read_text(json_file_name, blocksize=int(25e6)).map(json.loads)\n",
    "    df = dict_bag.to_dataframe()\n",
    "    if us_canada_only:\n",
    "        df = df[df['state'].isin(US_CANADA_REGION_BY_STATE_DICT.keys())]\n",
    "    df['city'] = df['state'].map(US_CANADA_REGION_BY_STATE_DICT).fillna('Non US/Canada')\n",
    "    return df"
   ]
  },
  {
   "cell_type": "code",
   "execution_count": 5,
   "metadata": {
    "collapsed": true
   },
   "outputs": [],
   "source": [
    "def get_reviews_df(json_file_name, columns=None):\n",
    "    \"\"\" Return dataframe from raw data.\n",
    "    All rows unless max_rows is set. All cities unless city is set. All columns unless select_keys is set.\n",
    "    \"\"\"\n",
    "    return db.read_text(json_file_name, blocksize=int(50e5)).map(json.loads).to_dataframe(columns=columns)"
   ]
  },
  {
   "cell_type": "code",
   "execution_count": 6,
   "metadata": {
    "collapsed": false
   },
   "outputs": [
    {
     "data": {
      "text/html": [
       "<div>\n",
       "<table border=\"1\" class=\"dataframe\">\n",
       "  <thead>\n",
       "    <tr style=\"text-align: right;\">\n",
       "      <th></th>\n",
       "      <th>business_id</th>\n",
       "      <th>city</th>\n",
       "    </tr>\n",
       "  </thead>\n",
       "  <tbody>\n",
       "    <tr>\n",
       "      <th>0</th>\n",
       "      <td>0DI8Dt2PJp07XkVvIElIcQ</td>\n",
       "      <td>Phoenix</td>\n",
       "    </tr>\n",
       "    <tr>\n",
       "      <th>1</th>\n",
       "      <td>LTlCaCGZE14GuaUXUGbamg</td>\n",
       "      <td>Las Vegas</td>\n",
       "    </tr>\n",
       "    <tr>\n",
       "      <th>2</th>\n",
       "      <td>EDqCEAGXVGCH4FJXgqtjqg</td>\n",
       "      <td>Toronto</td>\n",
       "    </tr>\n",
       "    <tr>\n",
       "      <th>3</th>\n",
       "      <td>cnGIivYRLxpF7tBVR_JwWA</td>\n",
       "      <td>Pittsburgh</td>\n",
       "    </tr>\n",
       "    <tr>\n",
       "      <th>4</th>\n",
       "      <td>cdk-qqJ71q6P7TJTww_DSA</td>\n",
       "      <td>Toronto</td>\n",
       "    </tr>\n",
       "  </tbody>\n",
       "</table>\n",
       "</div>"
      ],
      "text/plain": [
       "              business_id        city\n",
       "0  0DI8Dt2PJp07XkVvIElIcQ     Phoenix\n",
       "1  LTlCaCGZE14GuaUXUGbamg   Las Vegas\n",
       "2  EDqCEAGXVGCH4FJXgqtjqg     Toronto\n",
       "3  cnGIivYRLxpF7tBVR_JwWA  Pittsburgh\n",
       "4  cdk-qqJ71q6P7TJTww_DSA     Toronto"
      ]
     },
     "execution_count": 6,
     "metadata": {},
     "output_type": "execute_result"
    }
   ],
   "source": [
    "df_bus = get_businesses_df(all_businesses_file)\n",
    "df_bus = df_bus[['business_id', 'city']]\n",
    "df_bus.head()"
   ]
  },
  {
   "cell_type": "code",
   "execution_count": 7,
   "metadata": {
    "collapsed": false
   },
   "outputs": [
    {
     "data": {
      "text/html": [
       "<div>\n",
       "<table border=\"1\" class=\"dataframe\">\n",
       "  <thead>\n",
       "    <tr style=\"text-align: right;\">\n",
       "      <th></th>\n",
       "      <th>review_id</th>\n",
       "      <th>business_id</th>\n",
       "      <th>user_id</th>\n",
       "      <th>stars</th>\n",
       "    </tr>\n",
       "  </thead>\n",
       "  <tbody>\n",
       "    <tr>\n",
       "      <th>0</th>\n",
       "      <td>NxL8SIC5yqOdnlXCg18IBg</td>\n",
       "      <td>2aFiy99vNLklCx3T_tGS9A</td>\n",
       "      <td>KpkOkG6RIf4Ra25Lhhxf1A</td>\n",
       "      <td>5</td>\n",
       "    </tr>\n",
       "    <tr>\n",
       "      <th>1</th>\n",
       "      <td>pXbbIgOXvLuTi_SPs1hQEQ</td>\n",
       "      <td>2aFiy99vNLklCx3T_tGS9A</td>\n",
       "      <td>bQ7fQq1otn9hKX-gXRsrgA</td>\n",
       "      <td>5</td>\n",
       "    </tr>\n",
       "    <tr>\n",
       "      <th>2</th>\n",
       "      <td>GP6YEearUWrzPtQYSF1vVg</td>\n",
       "      <td>2LfIuF3_sX6uwe-IR-P0jQ</td>\n",
       "      <td>aW3ix1KNZAvoM8q-WghA3Q</td>\n",
       "      <td>5</td>\n",
       "    </tr>\n",
       "    <tr>\n",
       "      <th>3</th>\n",
       "      <td>25RlYGq2s5qShi-pn3ufVA</td>\n",
       "      <td>2LfIuF3_sX6uwe-IR-P0jQ</td>\n",
       "      <td>YOo-Cip8HqvKp_p9nEGphw</td>\n",
       "      <td>4</td>\n",
       "    </tr>\n",
       "    <tr>\n",
       "      <th>4</th>\n",
       "      <td>Uf1Ki1yyH_JDKhLvn2e4FQ</td>\n",
       "      <td>2LfIuF3_sX6uwe-IR-P0jQ</td>\n",
       "      <td>bgl3j8yJcRO-00NkUYsXGQ</td>\n",
       "      <td>5</td>\n",
       "    </tr>\n",
       "  </tbody>\n",
       "</table>\n",
       "</div>"
      ],
      "text/plain": [
       "                review_id             business_id                 user_id  \\\n",
       "0  NxL8SIC5yqOdnlXCg18IBg  2aFiy99vNLklCx3T_tGS9A  KpkOkG6RIf4Ra25Lhhxf1A   \n",
       "1  pXbbIgOXvLuTi_SPs1hQEQ  2aFiy99vNLklCx3T_tGS9A  bQ7fQq1otn9hKX-gXRsrgA   \n",
       "2  GP6YEearUWrzPtQYSF1vVg  2LfIuF3_sX6uwe-IR-P0jQ  aW3ix1KNZAvoM8q-WghA3Q   \n",
       "3  25RlYGq2s5qShi-pn3ufVA  2LfIuF3_sX6uwe-IR-P0jQ  YOo-Cip8HqvKp_p9nEGphw   \n",
       "4  Uf1Ki1yyH_JDKhLvn2e4FQ  2LfIuF3_sX6uwe-IR-P0jQ  bgl3j8yJcRO-00NkUYsXGQ   \n",
       "\n",
       "   stars  \n",
       "0      5  \n",
       "1      5  \n",
       "2      5  \n",
       "3      4  \n",
       "4      5  "
      ]
     },
     "execution_count": 7,
     "metadata": {},
     "output_type": "execute_result"
    }
   ],
   "source": [
    "df_rev = get_reviews_df(reviews_train_file, columns=['review_id', 'business_id', 'user_id', 'stars'])\n",
    "df_rev.head()"
   ]
  },
  {
   "cell_type": "code",
   "execution_count": 8,
   "metadata": {
    "collapsed": false
   },
   "outputs": [
    {
     "data": {
      "text/html": [
       "<div>\n",
       "<table border=\"1\" class=\"dataframe\">\n",
       "  <thead>\n",
       "    <tr style=\"text-align: right;\">\n",
       "      <th></th>\n",
       "      <th>review_id</th>\n",
       "      <th>business_id</th>\n",
       "      <th>user_id</th>\n",
       "      <th>stars</th>\n",
       "      <th>city</th>\n",
       "    </tr>\n",
       "  </thead>\n",
       "  <tbody>\n",
       "    <tr>\n",
       "      <th>0</th>\n",
       "      <td>NxL8SIC5yqOdnlXCg18IBg</td>\n",
       "      <td>2aFiy99vNLklCx3T_tGS9A</td>\n",
       "      <td>KpkOkG6RIf4Ra25Lhhxf1A</td>\n",
       "      <td>5</td>\n",
       "      <td>Phoenix</td>\n",
       "    </tr>\n",
       "    <tr>\n",
       "      <th>1</th>\n",
       "      <td>pXbbIgOXvLuTi_SPs1hQEQ</td>\n",
       "      <td>2aFiy99vNLklCx3T_tGS9A</td>\n",
       "      <td>bQ7fQq1otn9hKX-gXRsrgA</td>\n",
       "      <td>5</td>\n",
       "      <td>Phoenix</td>\n",
       "    </tr>\n",
       "    <tr>\n",
       "      <th>2</th>\n",
       "      <td>GP6YEearUWrzPtQYSF1vVg</td>\n",
       "      <td>2LfIuF3_sX6uwe-IR-P0jQ</td>\n",
       "      <td>aW3ix1KNZAvoM8q-WghA3Q</td>\n",
       "      <td>5</td>\n",
       "      <td>Phoenix</td>\n",
       "    </tr>\n",
       "    <tr>\n",
       "      <th>3</th>\n",
       "      <td>25RlYGq2s5qShi-pn3ufVA</td>\n",
       "      <td>2LfIuF3_sX6uwe-IR-P0jQ</td>\n",
       "      <td>YOo-Cip8HqvKp_p9nEGphw</td>\n",
       "      <td>4</td>\n",
       "      <td>Phoenix</td>\n",
       "    </tr>\n",
       "    <tr>\n",
       "      <th>4</th>\n",
       "      <td>Uf1Ki1yyH_JDKhLvn2e4FQ</td>\n",
       "      <td>2LfIuF3_sX6uwe-IR-P0jQ</td>\n",
       "      <td>bgl3j8yJcRO-00NkUYsXGQ</td>\n",
       "      <td>5</td>\n",
       "      <td>Phoenix</td>\n",
       "    </tr>\n",
       "  </tbody>\n",
       "</table>\n",
       "</div>"
      ],
      "text/plain": [
       "                review_id             business_id                 user_id  \\\n",
       "0  NxL8SIC5yqOdnlXCg18IBg  2aFiy99vNLklCx3T_tGS9A  KpkOkG6RIf4Ra25Lhhxf1A   \n",
       "1  pXbbIgOXvLuTi_SPs1hQEQ  2aFiy99vNLklCx3T_tGS9A  bQ7fQq1otn9hKX-gXRsrgA   \n",
       "2  GP6YEearUWrzPtQYSF1vVg  2LfIuF3_sX6uwe-IR-P0jQ  aW3ix1KNZAvoM8q-WghA3Q   \n",
       "3  25RlYGq2s5qShi-pn3ufVA  2LfIuF3_sX6uwe-IR-P0jQ  YOo-Cip8HqvKp_p9nEGphw   \n",
       "4  Uf1Ki1yyH_JDKhLvn2e4FQ  2LfIuF3_sX6uwe-IR-P0jQ  bgl3j8yJcRO-00NkUYsXGQ   \n",
       "\n",
       "   stars     city  \n",
       "0      5  Phoenix  \n",
       "1      5  Phoenix  \n",
       "2      5  Phoenix  \n",
       "3      4  Phoenix  \n",
       "4      5  Phoenix  "
      ]
     },
     "execution_count": 8,
     "metadata": {},
     "output_type": "execute_result"
    }
   ],
   "source": [
    "reviews_csv_string = '../preprocessed-data/reviews-train-stars-cities/reviews-*.csv'\n",
    "reviews_csv_dir = os.path.dirname(reviews_csv_string)\n",
    "if len(glob(reviews_csv_string)) > 0:\n",
    "    # %%time\n",
    "    df_rev = dd.read_csv(reviews_csv_string)\n",
    "    # 12.6 µs on my computer\n",
    "else:\n",
    "    # %%time\n",
    "    if not os.path.isdir(reviews_csv_dir):\n",
    "        os.makedirs(reviews_csv_dir)\n",
    "    df_rev = df_rev.join(df_bus.set_index('business_id'), on='business_id')\n",
    "    df_rev.to_csv(reviews_csv_string, index=False)\n",
    "    # 4min 46s on my computer\n",
    "df_rev.head()"
   ]
  },
  {
   "cell_type": "code",
   "execution_count": 9,
   "metadata": {
    "collapsed": false
   },
   "outputs": [],
   "source": [
    "# %%time\n",
    "# n_rev = len(df_rev)\n",
    "# n_users = df_rev['user_id'].nunique().compute()\n",
    "# n_bus = df_rev['business_id'].nunique().compute()\n",
    "\n",
    "# print('Number of reviews:    {}'.format(n_rev))\n",
    "# print('Number of users:      {}'.format(n_users))\n",
    "# print('Number of businesses: {}'.format(n_bus))\n",
    "# print('')\n",
    "\n",
    "# Number of reviews:    3663890\n",
    "# Number of users:      956530\n",
    "# Number of businesses: 137048\n",
    "#\n",
    "# CPU times: user 3min 34s, sys: 30.9 s, total: 4min 5s\n",
    "# Wall time: 5min 19s"
   ]
  },
  {
   "cell_type": "code",
   "execution_count": 27,
   "metadata": {
    "collapsed": false
   },
   "outputs": [
    {
     "data": {
      "text/plain": [
       "<matplotlib.axes._subplots.AxesSubplot at 0x1757bf4a8>"
      ]
     },
     "execution_count": 27,
     "metadata": {},
     "output_type": "execute_result"
    },
    {
     "data": {
      "image/png": "[encoded data removed]",
      "text/plain": [
       "<matplotlib.figure.Figure at 0x1084e97f0>"
      ]
     },
     "metadata": {},
     "output_type": "display_data"
    }
   ],
   "source": [
    "# df_rev[['city', 'stars']].groupby('city').mean().compute().plot(kind='bar')"
   ]
  },
  {
   "cell_type": "markdown",
   "metadata": {},
   "source": [
    "Not much variation in average ratings by city. All a little above 3.5."
   ]
  },
  {
   "cell_type": "code",
   "execution_count": 10,
   "metadata": {
    "collapsed": true
   },
   "outputs": [],
   "source": [
    "# Calculate the RMSE\n",
    "def rmse(y_true, y_pred):\n",
    "    diff_sq = (y_true - y_pred) ** 2\n",
    "    return np.sqrt(diff_sq.mean().compute())"
   ]
  },
  {
   "cell_type": "markdown",
   "metadata": {},
   "source": [
    "## Predict with the average rating of the training data\n",
    "\n",
    "This uses the simple baseline prediction of $b_{u,i} = \\mu$ as mentioned in 2.1 of the collaborative filtering guide."
   ]
  },
  {
   "cell_type": "code",
   "execution_count": 11,
   "metadata": {
    "collapsed": false
   },
   "outputs": [
    {
     "name": "stdout",
     "output_type": "stream",
     "text": [
      "Error = 1.4093244512291574\n",
      "CPU times: user 8.95 s, sys: 1.65 s, total: 10.6 s\n",
      "Wall time: 8.43 s\n"
     ]
    }
   ],
   "source": [
    "%%time\n",
    "df_train, df_test = df_rev.random_split([0.8, 0.2], random_state=0)\n",
    "df_test['pred'] = df_train['stars'].mean()\n",
    "error = rmse(df_test['stars'], df_test['pred'])\n",
    "print('Error = {}'.format(error))"
   ]
  },
  {
   "cell_type": "markdown",
   "metadata": {},
   "source": [
    "## Predict with User's average rating\n",
    "\n",
    "This baseline averages all of the user's ratings to give the prediction for each rating. This is $b_{u,i} = \\bar{r_u}$ as mentioned in section 2.1."
   ]
  },
  {
   "cell_type": "code",
   "execution_count": 12,
   "metadata": {
    "collapsed": false
   },
   "outputs": [
    {
     "name": "stdout",
     "output_type": "stream",
     "text": [
      "Error = 1.4678097393829554\n",
      "CPU times: user 50 s, sys: 8.09 s, total: 58.1 s\n",
      "Wall time: 49.5 s\n"
     ]
    }
   ],
   "source": [
    "%%time\n",
    "df_train, df_test = df_rev.random_split([0.8, 0.2], random_state=0)\n",
    "user_means = df_train[['user_id', 'stars']].groupby('user_id').mean().rename(columns={'stars': 'user_mean'})\n",
    "train_mean = df_train['stars'].mean()\n",
    "df_test = df_test.join(user_means, on='user_id').fillna(train_mean).rename(columns={'user_mean': 'pred'})\n",
    "error = rmse(df_test['stars'], df_test['pred'])\n",
    "print('Error = {}'.format(error))"
   ]
  },
  {
   "cell_type": "markdown",
   "metadata": {},
   "source": [
    "## Predict with Business's average rating\n",
    "\n",
    "This is $b_{u,i} = \\bar{r_i}$ from section 2.1."
   ]
  },
  {
   "cell_type": "code",
   "execution_count": 13,
   "metadata": {
    "collapsed": false
   },
   "outputs": [
    {
     "name": "stdout",
     "output_type": "stream",
     "text": [
      "Error = 1.2781815834857626\n",
      "CPU times: user 29.3 s, sys: 6.04 s, total: 35.4 s\n",
      "Wall time: 25.4 s\n"
     ]
    }
   ],
   "source": [
    "%%time\n",
    "df_train, df_test = df_rev.random_split([0.8, 0.2], random_state=0)\n",
    "business_means = df_train[['business_id', 'stars']].groupby('business_id').mean().rename(columns={'stars': 'business_mean'})\n",
    "train_mean = df_train['stars'].mean()\n",
    "df_test = df_test.join(business_means, on='business_id').fillna(train_mean).rename(columns={'business_mean': 'pred'})\n",
    "error = rmse(df_test['stars'], df_test['pred'])\n",
    "print('Error = {}'.format(error))"
   ]
  },
  {
   "cell_type": "markdown",
   "metadata": {
    "collapsed": true
   },
   "source": [
    "## Predict with a business and user baseline\n",
    "\n",
    "This is equation 2.1 from section 2.1 of the collaborative filtering guide. The equation is:\n",
    "\n",
    "$$b_{u_i} = \\mu + b_u + b_i$$\n",
    "\n",
    "where\n",
    "\n",
    "$$b_u = \\frac{1}{|I_u|}\\sum_{i \\in I_u} (r_{u,i} - \\mu)$$\n",
    "\n",
    "and\n",
    "\n",
    "$$b_i = \\frac{1}{|U_i|}\\sum_{u \\in U_i} (r_{u,i} - b_u - \\mu)$$\n",
    "\n",
    "(See equations 2.2 and 2.3)"
   ]
  },
  {
   "cell_type": "code",
   "execution_count": 14,
   "metadata": {
    "collapsed": false
   },
   "outputs": [
    {
     "name": "stdout",
     "output_type": "stream",
     "text": [
      "Error = 1.387641530621609\n",
      "CPU times: user 2min 21s, sys: 20.6 s, total: 2min 42s\n",
      "Wall time: 2min 22s\n"
     ]
    }
   ],
   "source": [
    "%%time\n",
    "df_train, df_test = df_rev.random_split([0.8, 0.2], random_state=0)\n",
    "# Get mean rating of all training ratings\n",
    "train_mean = df_train['stars'].mean()\n",
    "# Get dataframe of b_u part of baseline for each user id\n",
    "df_train_user = df_train[['user_id', 'stars']].groupby('user_id').mean().rename(columns={'stars': 'user_mean'})\n",
    "df_train_user['b_u'] = df_train_user['user_mean'] - train_mean\n",
    "# Create column of b_u values corresponding to the user who made the review\n",
    "df_train = df_train.join(df_train_user[['b_u']], on='user_id')\n",
    "# Add column which will turn into b_i when averaging over each business\n",
    "df_train['b_i'] = df_train['stars'] - df_train['b_u'] - train_mean\n",
    "# Average over each business to get the actual b_i values for each business\n",
    "df_train_bus = df_train[['business_id', 'b_i']].groupby('business_id').mean()\n",
    "# Join b_u and b_i columns to test dataframe\n",
    "df_test = df_test.join(df_train_user[['b_u']], on='user_id').fillna(df_train_user['b_u'].mean())\n",
    "df_test = df_test.join(df_train_bus[['b_i']], on='business_id').fillna(df_train_bus['b_i'].mean())\n",
    "# Predict and Compute error\n",
    "df_test['pred'] = df_test['b_u'] + df_test['b_i'] + train_mean\n",
    "error = rmse(df_test['stars'], df_test['pred'])\n",
    "print('Error = {}'.format(error))"
   ]
  },
  {
   "cell_type": "markdown",
   "metadata": {
    "collapsed": true
   },
   "source": [
    "## Predict with a business and user baseline including damping terms\n",
    "\n",
    "This follows the same equation 2.1 from above ($b_{u_i} = \\mu + b_u + b_i$), but $b_u$ and $b_i$ are defined in a kind of Bayesian way. Specifically, damping factors are added in to push them closer to zero, making the baselines closer to the global average the lower the number of reviews. The equations for $b_u$ and $b_i$ here are\n",
    "\n",
    "$$b_u = \\frac{1}{|I_u| + \\beta_u}\\sum_{i \\in I_u} (r_{u,i} - \\mu)$$\n",
    "\n",
    "and\n",
    "\n",
    "$$b_i = \\frac{1}{|U_i| + \\beta_i}\\sum_{u \\in U_i} (r_{u,i} - b_u - \\mu)$$\n",
    "\n",
    "(See equations 2.4 and 2.5) where $\\beta_u$ and $\\beta_i$ are damping factors, for which the guide reported 25 is a good number. 5 seems to work better in this case though, maybe because it's a small dataset."
   ]
  },
  {
   "cell_type": "code",
   "execution_count": 15,
   "metadata": {
    "collapsed": false
   },
   "outputs": [
    {
     "name": "stdout",
     "output_type": "stream",
     "text": [
      "Error = 1.2451287932974116\n",
      "CPU times: user 2min 21s, sys: 20 s, total: 2min 41s\n",
      "Wall time: 2min 22s\n"
     ]
    }
   ],
   "source": [
    "%%time\n",
    "df_train, df_test = df_rev.random_split([0.8, 0.2], random_state=0)\n",
    "beta_u, beta_i = 5, 5\n",
    "# Get mean rating of all training ratings\n",
    "train_mean = df_train['stars'].mean()\n",
    "# Get dataframe of b_u part of baseline for each user id\n",
    "user_group = df_train[['user_id', 'stars']].groupby('user_id')\n",
    "df_train_user = user_group.agg(['sum', 'count'])['stars']\n",
    "df_train_user['b_u'] = (df_train_user['sum'] - train_mean * df_train_user['count'])\n",
    "df_train_user['b_u'] /= (df_train_user['count'] + beta_u)\n",
    "# Create column of b_u values corresponding to the user who made the review\n",
    "df_train = df_train.join(df_train_user[['b_u']], on='user_id')\n",
    "# Add column representing the expression inside the summation part of the b_i equation\n",
    "df_train['b_i_sum'] = df_train['stars'] - df_train['b_u'] - train_mean\n",
    "# Average over each business to get the actual b_i values for each business\n",
    "bus_group = df_train[['business_id', 'b_i_sum']].groupby('business_id')\n",
    "df_train_bus = bus_group.agg(['sum', 'count'])['b_i_sum'].rename(columns={'sum': 'b_i'})\n",
    "df_train_bus['b_i'] /= df_train_bus['count'] + beta_i\n",
    "# Join b_u and b_i columns to test dataframe\n",
    "df_test = df_test.join(df_train_user[['b_u']], on='user_id').fillna(df_train_user['b_u'].mean())\n",
    "df_test = df_test.join(df_train_bus[['b_i']], on='business_id').fillna(df_train_bus['b_i'].mean())\n",
    "# Predict and Compute error\n",
    "df_test['pred'] = df_test['b_u'] + df_test['b_i'] + train_mean\n",
    "error = rmse(df_test['stars'], df_test['pred'])\n",
    "print('Error = {}'.format(error))"
   ]
  }
 ],
 "metadata": {
  "kernelspec": {
   "display_name": "Python 3",
   "language": "python",
   "name": "python3"
  },
  "language_info": {
   "codemirror_mode": {
    "name": "ipython",
    "version": 3
   },
   "file_extension": ".py",
   "mimetype": "text/x-python",
   "name": "python",
   "nbconvert_exporter": "python",
   "pygments_lexer": "ipython3",
   "version": "3.6.0"
  }
 },
 "nbformat": 4,
 "nbformat_minor": 2
}
